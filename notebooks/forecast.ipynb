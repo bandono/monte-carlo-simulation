{
 "cells": [
  {
   "cell_type": "code",
   "execution_count": 9,
   "metadata": {
    "collapsed": true
   },
   "outputs": [],
   "source": [
    "%matplotlib inline\n",
    "import matplotlib.pyplot as plt\n",
    "import matplotlib.mlab as mlab\n",
    "\n",
    "import random\n",
    "import numpy as np\n",
    "import pandas as pd\n",
    "\n",
    "import scipy.stats as stats\n"
   ]
  },
  {
   "cell_type": "code",
   "execution_count": 10,
   "metadata": {
    "collapsed": false
   },
   "outputs": [],
   "source": [
    "def read_file(file):\n",
    "    return  pd.read_csv(file, parse_dates=['created_date'])"
   ]
  },
  {
   "cell_type": "code",
   "execution_count": 5,
   "metadata": {
    "collapsed": true
   },
   "outputs": [],
   "source": [
    "def get_cycle_times(df):\n",
    "    cleaned = df[df['created_date'] > '2017-12-31']\n",
    "    cleaned = cleaned[cleaned['cycle_time_days'] > -1]\n",
    "\n",
    "\n",
    "    project_0_cycle_times = cleaned[cleaned['grp'] == 0].cycle_time_days\n",
    "    project_1_cycle_times = cleaned[cleaned['grp'] == 1].cycle_time_days\n",
    "\n",
    "    return project_0_cycle_times.values"
   ]
  },
  {
   "cell_type": "code",
   "execution_count": 17,
   "metadata": {
    "collapsed": false
   },
   "outputs": [],
   "source": [
    "\n",
    "def plot_cycle_time_hist(cycle_times, name='Project'):\n",
    "\n",
    "    fig, ax = plt.subplots(figsize=(10, 5))\n",
    "    fig.suptitle('Histogram Cycle Times (Days)', fontsize=14, fontweight='bold')\n",
    "    plt.hist(cycle_times, label=name)\n",
    "    ax.set_xlabel('Cycle Times')\n",
    "    ax.set_ylabel('Frequency')\n",
    "    plt.legend(loc='upper right')\n",
    "    plt.show()"
   ]
  },
  {
   "cell_type": "code",
   "execution_count": 24,
   "metadata": {
    "collapsed": false
   },
   "outputs": [],
   "source": [
    "def plot_cycle_times_boxplot(cycle_times, name='Project'):\n",
    "    fig, ax = plt.subplots(figsize=(10, 5))\n",
    "    fig.suptitle('Boxplot Cycle Times (Day)', fontsize=14, fontweight='bold')\n",
    "\n",
    "    plt.boxplot(cycle_times)\n",
    "\n",
    "    ax.set_xticklabels(name)\n",
    "    ax.set_ylabel('Cycle Times')\n",
    "\n",
    "\n",
    "    plt.show()"
   ]
  },
  {
   "cell_type": "code",
   "execution_count": 45,
   "metadata": {
    "collapsed": false
   },
   "outputs": [],
   "source": [
    "def print_summary_stats(cycle_times):\n",
    "   \n",
    "    print('Number of observations:', stats.describe(cycle_times).nobs)\n",
    "    print('Coefficient of variation:', stats.variation(cycle_times))"
   ]
  },
  {
   "cell_type": "code",
   "execution_count": 46,
   "metadata": {
    "collapsed": false
   },
   "outputs": [
    {
     "data": {
      "image/png": "[encoded data removed]",
      "text/plain": [
       "<matplotlib.figure.Figure at 0x11a62e6a0>"
      ]
     },
     "metadata": {},
     "output_type": "display_data"
    },
    {
     "data": {
      "image/png": "[encoded data removed]",
      "text/plain": [
       "<matplotlib.figure.Figure at 0x11a7f3588>"
      ]
     },
     "metadata": {},
     "output_type": "display_data"
    },
    {
     "name": "stdout",
     "output_type": "stream",
     "text": [
      "Number of observations: 51\n",
      "Coefficient of variation: 1.13140945001\n"
     ]
    }
   ],
   "source": [
    "df = read_file('data.csv')\n",
    "cycle_times = get_cycle_times(df)\n",
    "plot_cycle_time_hist(cycle_times)\n",
    "plot_cycle_times_boxplot(cycle_times)\n",
    "print_summary_stats(cycle_times)"
   ]
  },
  {
   "cell_type": "code",
   "execution_count": null,
   "metadata": {
    "collapsed": false
   },
   "outputs": [],
   "source": []
  },
  {
   "cell_type": "code",
   "execution_count": null,
   "metadata": {
    "collapsed": false
   },
   "outputs": [],
   "source": [
    "print(stats.describe(project_0_cycle_times))\n",
    "print(stats.describe(project_1_cycle_times))"
   ]
  },
  {
   "cell_type": "code",
   "execution_count": null,
   "metadata": {
    "collapsed": false
   },
   "outputs": [],
   "source": [
    "print(stats.variation(project_0_cycle_times))\n",
    "print(stats.variation(project_1_cycle_times))"
   ]
  },
  {
   "cell_type": "code",
   "execution_count": null,
   "metadata": {
    "collapsed": false
   },
   "outputs": [],
   "source": [
    "def simulate(max_work_items, cycle_times, selector, itearions):\n",
    "    out = []\n",
    "    \n",
    "    for i in range(itearions):\n",
    "        out.append(run_iteration(max_work_items, cycle_times, selector))\n",
    "        \n",
    "    return np.transpose(out)\n",
    "\n",
    "def run_iteration(max_work_items, cycle_times, selector):\n",
    "    total = [0]\n",
    "    for i, e in enumerate(range(max_work_items)):\n",
    "            total.append(selector(cycle_times))\n",
    "    return total \n",
    "\n",
    "def cumulative_sum_row_wise(a):\n",
    "    return np.cumsum(a, 0)\n",
    "\n"
   ]
  },
  {
   "cell_type": "code",
   "execution_count": null,
   "metadata": {
    "collapsed": true
   },
   "outputs": [],
   "source": [
    "max_work_items = 10\n",
    "iterations = 100"
   ]
  },
  {
   "cell_type": "code",
   "execution_count": null,
   "metadata": {
    "collapsed": false
   },
   "outputs": [],
   "source": [
    "range_work_items = np.array([x for x in range(max_work_items + 1)])\n",
    "range_work_items"
   ]
  },
  {
   "cell_type": "code",
   "execution_count": null,
   "metadata": {
    "collapsed": false
   },
   "outputs": [],
   "source": [
    "s = simulate(max_work_items, project_0_cycle_times, np.random.choice, iterations)\n",
    "s"
   ]
  },
  {
   "cell_type": "code",
   "execution_count": null,
   "metadata": {
    "collapsed": false
   },
   "outputs": [],
   "source": [
    "c = cumulative_sum_row_wise(s)\n",
    "c"
   ]
  },
  {
   "cell_type": "code",
   "execution_count": null,
   "metadata": {
    "collapsed": false
   },
   "outputs": [],
   "source": [
    "v_max = cumulative_sum_row_wise([max(project_0_cycle_times) for i in range(max_work_items)])\n",
    "v_max = np.insert(v_max, 0, 0)\n",
    "v_max"
   ]
  },
  {
   "cell_type": "code",
   "execution_count": null,
   "metadata": {
    "collapsed": false
   },
   "outputs": [],
   "source": [
    "v_min = cumulative_sum_row_wise([min(project_0_cycle_times) for i in range(max_work_items)])\n",
    "v_min = np.insert(v_min, 0, 0)\n",
    "v_min"
   ]
  },
  {
   "cell_type": "code",
   "execution_count": null,
   "metadata": {
    "collapsed": false
   },
   "outputs": [],
   "source": [
    "fig, ax = plt.subplots(figsize=(10, 5))\n",
    "\n",
    "\n",
    "fig.suptitle('Forecast with Min / Max', fontsize=14, fontweight='bold')\n",
    "\n",
    "plt.plot(c, range_work_items, color='silver', linestyle='dashed', linewidth=1)\n",
    "plt.plot(v_max, range_work_items, color='purple', linestyle='solid', linewidth=1)\n",
    "plt.plot(v_min, range_work_items, color='purple', linestyle='solid', linewidth=1)\n",
    "\n",
    "\n",
    "ax.set_xlabel(\"Days\")\n",
    "ax.set_ylabel(\"Work Items\")\n",
    "\n",
    "\n",
    "plt.show()\n"
   ]
  },
  {
   "cell_type": "code",
   "execution_count": null,
   "metadata": {
    "collapsed": false
   },
   "outputs": [],
   "source": [
    "\n",
    "fig, ax = plt.subplots()\n",
    "\n",
    "fig.suptitle('Distribution of Simulated Durations (Days)', fontsize=14, fontweight='bold')\n",
    "\n",
    "n, x, _ = plt.hist(c[-1], normed=True)\n",
    "\n",
    "density = stats.gaussian_kde(c[-1])\n",
    "plt.plot(x, density(x), color=\"red\", linewidth=2)\n",
    "\n",
    "ax.set_xlabel('Days')\n",
    "ax.set_ylabel('Probability density')\n",
    "\n",
    "p = [85, 90]\n",
    "q = np.percentile(c[-1], p)\n",
    "\n",
    "cm = plt.cm.get_cmap('Dark2')\n",
    "\n",
    "for i, v in enumerate(q):\n",
    "    plt.axvline(v, color=cm.colors[i], linestyle='dashed', linewidth=2, label=str(p[i]) + '%')\n",
    "\n",
    "plt.legend(loc='upper right')\n",
    "plt.show()"
   ]
  },
  {
   "cell_type": "code",
   "execution_count": null,
   "metadata": {
    "collapsed": false
   },
   "outputs": [],
   "source": [
    "\n",
    "f, (ax1, ax2) = plt.subplots(2, sharex=True)\n",
    "ax1.hist(c[-1])\n",
    "\n",
    "ax2.boxplot(c[-1], vert=False)\n",
    "plt.show()"
   ]
  },
  {
   "cell_type": "code",
   "execution_count": null,
   "metadata": {
    "collapsed": false
   },
   "outputs": [],
   "source": [
    "p85 = []\n",
    "day = 10\n",
    "for i in range(len(c)):\n",
    "    p85.append(stats.percentileofscore(c[i], day))"
   ]
  },
  {
   "cell_type": "code",
   "execution_count": null,
   "metadata": {
    "collapsed": false
   },
   "outputs": [],
   "source": [
    "p85"
   ]
  },
  {
   "cell_type": "code",
   "execution_count": null,
   "metadata": {
    "collapsed": false
   },
   "outputs": [],
   "source": [
    "stats.scoreatpercentile(c[2], 85)"
   ]
  },
  {
   "cell_type": "code",
   "execution_count": null,
   "metadata": {
    "collapsed": false
   },
   "outputs": [],
   "source": [
    "c[2]"
   ]
  },
  {
   "cell_type": "code",
   "execution_count": null,
   "metadata": {
    "collapsed": false
   },
   "outputs": [],
   "source": [
    "plt.plot(stats.scoreatpercentile(c[2], range(101)), range(101))\n",
    "plt.show()"
   ]
  },
  {
   "cell_type": "code",
   "execution_count": null,
   "metadata": {
    "collapsed": false
   },
   "outputs": [],
   "source": [
    "stats.scoreatpercentile(c[2], 50)"
   ]
  },
  {
   "cell_type": "code",
   "execution_count": null,
   "metadata": {
    "collapsed": true
   },
   "outputs": [],
   "source": []
  }
 ],
 "metadata": {
  "kernelspec": {
   "display_name": "Python 3",
   "language": "python",
   "name": "python3"
  },
  "language_info": {
   "codemirror_mode": {
    "name": "ipython",
    "version": 3
   },
   "file_extension": ".py",
   "mimetype": "text/x-python",
   "name": "python",
   "nbconvert_exporter": "python",
   "pygments_lexer": "ipython3",
   "version": "3.5.4"
  }
 },
 "nbformat": 4,
 "nbformat_minor": 2
}
